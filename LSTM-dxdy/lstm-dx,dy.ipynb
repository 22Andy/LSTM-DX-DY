{
 "cells": [
  {
   "cell_type": "code",
   "execution_count": 1,
   "metadata": {},
   "outputs": [
    {
     "name": "stderr",
     "output_type": "stream",
     "text": [
      "Using TensorFlow backend.\n"
     ]
    }
   ],
   "source": [
    "import os\n",
    "import pickle\n",
    "import numpy \n",
    "#import pandas as pd\n",
    "#import cv2\n",
    "import matplotlib.pyplot as plt\n",
    "from PIL import Image\n",
    "from pylab import *\n",
    "from matplotlib import pyplot\n",
    "\n",
    "from scipy. ndimage import filters\n",
    "import pandas as pd\n",
    "import os\n",
    "from keras.models import Model, Sequential, save_model, load_model\n",
    "import math\n",
    "from sklearn.metrics import mean_squared_error\n",
    "\n",
    "import random\n",
    "from sklearn.preprocessing import MinMaxScaler\n",
    "import h5py\n",
    "import tensorflow as tf\n"
   ]
  },
  {
   "cell_type": "code",
   "execution_count": 7,
   "metadata": {},
   "outputs": [],
   "source": [
    "import os \n",
    "import pickle\n",
    "import numpy as np\n",
    "import random\n",
    "\n",
    "def preprocess(data_dirs, data_file,name):\n",
    "    # all_ped_data would be a dictionary with mapping from each ped to their\n",
    "    # trajectories given by matrix 3 x numPoints with each column\n",
    "    # in the order x, y, frameId\n",
    "    # Pedestrians from all datasets are combined\n",
    "    # Dataset pedestrian indices are stored in dataset_indices\n",
    "    all_ped_data = {}\n",
    "    dataset_indices = []\n",
    "    current_ped = 0\n",
    "    # For each dataset\n",
    "    for directory in data_dirs:\n",
    "        # Define the path to its respective csv file\n",
    "        file_path = os.path.join(directory,name )\n",
    "\n",
    "        # Cargar datos desde el archivo csv\n",
    "        # Los datos son una matriz 4x numTrajPoints\n",
    "        data = np.genfromtxt(file_path, delimiter=',')\n",
    "       \n",
    "        # Obtenga el numero de peatones en el conjunto de datos actual\n",
    "        #uni = np.unique(data[:,1])    \n",
    "        numPeds = np.size(np.unique(data[:,1]))\n",
    "     \n",
    "        print(\"El numero de peatones en \"+directory+\" es de \"+str(numPeds))\n",
    "       \n",
    "        # Para cada peaton en el conjunto de datos\n",
    "        for ped in range(1, numPeds+1):\n",
    "            #Son los datos de la persona ped\n",
    "            traj = data[ data[:, 1] == ped]\n",
    "            \n",
    "            #Esta como (x,y,frame_Id)\n",
    "            traj = traj[:, [2,3,0]]\n",
    "            \n",
    "            #Esta como [[x,...],[y,...],[Frame_Id,..]]\n",
    "            traj=[list(traj[:,0]),list(traj[:,1]),list(traj[:,2])]\n",
    "            all_ped_data[current_ped + ped] = np.array(traj)\n",
    "\n",
    "        # Current dataset done\n",
    "        dataset_indices.append(current_ped+numPeds)\n",
    "        current_ped += numPeds\n",
    "\n",
    "    # Los datos completos son una tupla de todos los datos de peatones y los indices de datos del conjunto de datos.\n",
    "    complete_data = (all_ped_data, dataset_indices)\n",
    "    # Almacena los datos completos en el archivo pickle\n",
    "    f = open(data_file, \"wb\")\n",
    "    pickle.dump(complete_data, f, protocol=2)\n",
    "    f.close()\n",
    "    return complete_data\n",
    "    "
   ]
  },
  {
   "cell_type": "code",
   "execution_count": 8,
   "metadata": {},
   "outputs": [],
   "source": [
    "def load_preprocessed(data_file,seq_length_obs,batch_size):\n",
    "    \n",
    "    # cargar los datos\n",
    "    f = open(data_file, \"rb\")\n",
    "    raw_data = pickle.load(f)\n",
    "    f.close()\n",
    "\n",
    "    # Obtengo los peatones\n",
    "    all_ped_data =raw_data[0]\n",
    " \n",
    "    #all_ped_data es el vector {[[],[],[]],...,[[],[],[]]} tantos como pedestrian hayan\n",
    "    # No usamos dataset_indices por ahora\n",
    "    # dataset_indices = self.raw_data[1]\n",
    "\n",
    "    # Construimos data con secuencias(o trayectorias) del largo than seq_length_obs\n",
    "    data = []\n",
    "    counter = 0\n",
    "\n",
    "    # para cada peaton en data\n",
    "    for ped in all_ped_data:\n",
    "        \n",
    "        #ped es un numero entero y va de 1 hasta la cantidad total de pedestrian\n",
    "        # Extract his trajectory\n",
    "        traj = all_ped_data[ped]\n",
    "        \n",
    "           \n",
    "        # If the length of the trajectory is greater than seq_length (+2 as we need both source and target data)\n",
    "        #solo se toman las trajectorias de longitud mayor a seq_length+2\n",
    "        if traj.shape[1] >= (seq_length_obs+1):\n",
    "            # TODO: (Improve) Store only the (x,y) coordinates for now\n",
    "               \n",
    "            data.append(traj[[0, 1], :].T)\n",
    "            #print(traj[[0, 1], :].T)\n",
    "            # Number of batches this datapoint is worth\n",
    "            #print(traj.shape[1] )\n",
    "            #print(int(traj.shape[1] / ((seq_length_obs+1))))\n",
    "            counter += int(traj.shape[1] / ((seq_length_obs+1)))\n",
    "        \n",
    "    # Calculate the number of batches (each of batch_size) in the data\n",
    "    #counter tiene la cantidad de bloques de 8 pasos\n",
    "        \n",
    "    num_batches = int(counter /batch_size)\n",
    "    #cada bache tiene batch_size conjuntos donde cada conjunto tiene datos de length+2\n",
    "    return data,num_batches"
   ]
  },
  {
   "cell_type": "code",
   "execution_count": 9,
   "metadata": {},
   "outputs": [
    {
     "name": "stdout",
     "output_type": "stream",
     "text": [
      "El numero de peatones en ../data1/pets es de 19\n"
     ]
    }
   ],
   "source": [
    "\n",
    "\"\"\"\n",
    "Cuando se entrena con un solo dataset y a este se divide en training y test\n",
    "\"\"\"\n",
    "data_dirs = ['../data1/pets']\n",
    "datasets=[0]\n",
    "\n",
    "used_data_dirs = [data_dirs[x] for x in datasets]\n",
    "      \n",
    "# Directorio de datos donde reside el archivo pickle preprocesado\n",
    "data_dir = '../data1'\n",
    "\n",
    "# Defina la ruta del archivo en el que deben almacenarse los datos.\n",
    "data_file = os.path.join(data_dir, \"datos_limpios_solo.cpkl\")\n",
    "\n",
    "\n",
    "name = 'pixel_pos_2.csv'\n",
    "\n",
    "# If the file doesn't exist already or if forcePreProcess is true\n",
    "#se usa preprocesscsv para los csv y preprocess para el .txt\n",
    "\n",
    "#datos tiene todos las trayectorias de todos los peatones \n",
    "data = preprocess(used_data_dirs, data_file,name)\n",
    "datos,numero = load_preprocessed(data_file,12,1)#los ultimos dos valores noimportan"
   ]
  },
  {
   "cell_type": "code",
   "execution_count": 11,
   "metadata": {},
   "outputs": [],
   "source": [
    "def secuencia(seq_length_obs,data):\n",
    "    tamano = int(len(data))\n",
    "    \n",
    "    X,Y = [],[]\n",
    "    for j in range(tamano):\n",
    "        traj = data[j]\n",
    "        lon = traj.shape[0]-seq_length_obs-1\n",
    "        for i in range(0,lon+1):\n",
    "            a = traj[i:(i +seq_length_obs ), :]\n",
    "            X.append(a)\n",
    "            b = traj[i+seq_length_obs, :]  \n",
    "            Y.append(b-a[len(a)-1,:])\n",
    "    return np.array(X), np.array(Y)"
   ]
  },
  {
   "cell_type": "markdown",
   "metadata": {},
   "source": [
    "## VISUALIZANDO LOS DATOS"
   ]
  },
  {
   "cell_type": "code",
   "execution_count": 12,
   "metadata": {},
   "outputs": [
    {
     "data": {
      "image/png": "[encoded data removed]",
      "text/plain": [
       "<Figure size 576x432 with 1 Axes>"
      ]
     },
     "metadata": {
      "needs_background": "light"
     },
     "output_type": "display_data"
    },
    {
     "name": "stdout",
     "output_type": "stream",
     "text": [
      "[]\n"
     ]
    }
   ],
   "source": [
    "plt.subplots(nrows=1, ncols=1, figsize=(8, 6))\n",
    "color_names = [\"r\",\"crimson\" ,\"g\", \"b\",\"c\",\"m\",\"y\",\"lightcoral\", \"peachpuff\",\"grey\",\"springgreen\" ,\"fuchsia\",\"violet\",\"teal\",\"seagreen\",\"lime\",\"yellow\",\"coral\",\"aquamarine\",\"hotpink\"]\n",
    "for i in range(len(datos)):\n",
    "    cpu = random.choice(range(17))\n",
    "    pintar=plt.plot(datos[i][:,0],datos[i][:,1],color=color_names[i])\n",
    "plt.title(\" Trayectorias completas de PETS-2009\") \n",
    "plt.xlabel(\"Coordenada x\")   \n",
    "plt.ylabel(\"Coordenada y\") \n",
    "\n",
    "#plt.savefig(\"trayectorias.jpg\")\n",
    "plt.show() \n",
    "print(datos[3][252:264,:])\n",
    "#datos[3][252:264,:]"
   ]
  },
  {
   "cell_type": "markdown",
   "metadata": {},
   "source": [
    "## Se divide los indices del conjunto de dato para hacer validación cruzada, cuando se entrena con  pets "
   ]
  },
  {
   "cell_type": "code",
   "execution_count": 13,
   "metadata": {},
   "outputs": [],
   "source": [
    "longitud=len(datos)\n",
    "ind = range(longitud)\n",
    "\n",
    "lista = []\n",
    "for i in range(0,longitud,4):\n",
    "    lista.append(ind[i:i+4])\n",
    "#print(lista)\n",
    "\n",
    "combinacion=[(0,1,2,3,4),(0,1,2,4,3),(0,1,3,4,2),(0,2,3,4,1),(1,2,3,4,0)]\n",
    "\n",
    "def conjunto_datos(combinacion,lista,datos):\n",
    "    conjunto_entrenamiento = []\n",
    "    for i in range(len(combinacion)-1):\n",
    "       # print(i)\n",
    "        for j in lista[combinacion[i]]:\n",
    "        #    print(j)\n",
    "            conjunto_entrenamiento.append(datos[j])\n",
    "    conjunto_prueba=[]\n",
    "    for i in lista[combinacion[4]]:\n",
    "        #print(i)\n",
    "        conjunto_prueba.append(datos[i])\n",
    "    \n",
    "    return conjunto_entrenamiento,conjunto_prueba"
   ]
  },
  {
   "cell_type": "code",
   "execution_count": 14,
   "metadata": {},
   "outputs": [],
   "source": [
    "train1,test1 = conjunto_datos(combinacion[0],lista,datos)\n",
    "train2,test2 = conjunto_datos(combinacion[1],lista,datos)\n",
    "train3,test3 = conjunto_datos(combinacion[2],lista,datos)\n",
    "train4,test4 = conjunto_datos(combinacion[3],lista,datos)\n",
    "train5,test5 = conjunto_datos(combinacion[4],lista,datos)\n"
   ]
  },
  {
   "cell_type": "code",
   "execution_count": 15,
   "metadata": {},
   "outputs": [],
   "source": [
    "length_obs = 8\n",
    "trainX,trainY = secuencia(length_obs,train5)\n",
    "#valiX, valiY= secuencia(length_obs,vali2)"
   ]
  },
  {
   "cell_type": "code",
   "execution_count": 16,
   "metadata": {},
   "outputs": [],
   "source": [
    "trainX = numpy.reshape(trainX, (trainX.shape[0], trainX.shape[1],trainX.shape[2]))\n",
    "#valiX = numpy.reshape(valiX, (valiX.shape[0], valiX.shape[1],valiX.shape[2]))"
   ]
  },
  {
   "cell_type": "code",
   "execution_count": 17,
   "metadata": {},
   "outputs": [
    {
     "name": "stdout",
     "output_type": "stream",
     "text": [
      "(8, 2)\n"
     ]
    },
    {
     "data": {
      "text/plain": [
       "(1479, 8, 2)"
      ]
     },
     "execution_count": 17,
     "metadata": {},
     "output_type": "execute_result"
    }
   ],
   "source": [
    "data_shape =trainX.shape[1:]\n",
    "print(data_shape)\n",
    "import numpy as np\n",
    "np.shape(trainX)"
   ]
  },
  {
   "cell_type": "markdown",
   "metadata": {},
   "source": [
    "## DIVIDIENDO CONJUNTO DE TRAINING, TESTING AND VALIDATION"
   ]
  },
  {
   "cell_type": "raw",
   "metadata": {},
   "source": [
    "import random\n",
    "\n",
    "array=arange(len(datos))\n",
    "random.shuffle(array)\n",
    "\n",
    "longitud=len(datos)\n",
    "train_size = int(longitud * 0.8)\n",
    "test_size= int(longitud*0.2)\n",
    "vali_size=longitud-train_size-test_size\n",
    "\n",
    "\n",
    "print(\"El shape de train_size \", train_size)\n",
    "print(\"El shape de test_size \", test_size)\n",
    "print(\"El shape de vali_size \", vali_size)\n",
    "\n",
    "\n",
    "train = []\n",
    "for i in range(train_size):\n",
    "    train.append(datos[array[i]])\n",
    "test = []\n",
    "for i in range(train_size,train_size+test_size):\n",
    "    test.append(datos[array[i]])\n",
    "vali = []\n",
    "vali.append(datos[array[longitud-1]])\n",
    "    \n",
    "    "
   ]
  },
  {
   "cell_type": "raw",
   "metadata": {},
   "source": [
    "longitud=len(datos)\n",
    "train_size = int(longitud * 0.8)\n",
    "test_size= int(longitud*0.2)\n",
    "vali_size=longitud-train_size-test_size\n",
    "print(\"El shape de train_size \", train_size)\n",
    "print(\"El shape de test_size \", test_size)\n",
    "print(\"El shape de vali_size \", vali_size)\n",
    "\n",
    "train=datos[0:train_size]\n",
    "test=datos[train_size:train_size+test_size]\n",
    "vali=datos[train_size+test_size: train_size+test_size+vali_size]\n"
   ]
  },
  {
   "cell_type": "markdown",
   "metadata": {},
   "source": [
    "## Aqui dividimos el conjunto"
   ]
  },
  {
   "cell_type": "raw",
   "metadata": {},
   "source": [
    "longitud=len(datos)\n",
    "train_size = int(longitud * 0.95)\n",
    "vali_size=longitud-train_size\n",
    "print(\"El shape de train_size \", train_size)\n",
    "print(\"El shape de vali_size \", vali_size)\n",
    "print(longitud)\n",
    "train=datos[0:train_size]\n",
    "vali=datos[train_size:train_size+vali_size]\n"
   ]
  },
  {
   "cell_type": "markdown",
   "metadata": {},
   "source": [
    "### CALCULAMOS LOS CONJUNTOS DE DATOS"
   ]
  },
  {
   "cell_type": "raw",
   "metadata": {},
   "source": [
    "seq_length_obs=8\n",
    "trainX,trainY=secuencia(seq_length_obs,train)\n",
    "#testX,testY=secuencia(seq_length_obs,test)\n",
    "valiX,valiY=secuencia(seq_length_obs,vali)"
   ]
  },
  {
   "cell_type": "markdown",
   "metadata": {},
   "source": [
    "### SE LE DA LA FORMA QUE NECESITAN LOS DATOS PARA LA RED"
   ]
  },
  {
   "cell_type": "raw",
   "metadata": {},
   "source": [
    "# remodelamos la entrada para que sea[muestras, pasos de tiempo, características]\n",
    "trainX = numpy.reshape(trainX, (trainX.shape[0], trainX.shape[1],trainX.shape[2]))\n",
    "#testX = numpy.reshape(testX, (testX.shape[0], testX.shape[1],testX.shape[2]))\n",
    "valiX= numpy.reshape(valiX, (valiX.shape[0], valiX.shape[1],valiX.shape[2]))"
   ]
  },
  {
   "cell_type": "raw",
   "metadata": {},
   "source": [
    "data_shape =trainX.shape[1:]\n",
    "print(data_shape)\n",
    "import numpy as np\n",
    "np.shape(trainX)"
   ]
  },
  {
   "cell_type": "markdown",
   "metadata": {},
   "source": [
    "## SE DISEÑA LA RED"
   ]
  },
  {
   "cell_type": "code",
   "execution_count": null,
   "metadata": {},
   "outputs": [],
   "source": [
    "from keras.models import Sequential\n",
    "from keras import optimizers\n",
    "from keras.layers import Dense\n",
    "from keras.layers import LSTM\n",
    "from keras.callbacks import EarlyStopping\n",
    "from keras import initializers\n",
    "from datetime import datetime\n",
    "\n",
    "if 'model' in globals(): del model\n",
    "model = None\n",
    "model = Sequential()\n",
    "model.add(LSTM(9, return_sequences=True, input_shape=data_shape, name='lstm1'))\n",
    "model.add(LSTM(9, name='lstm2'))\n",
    "model.add(Dense(2))"
   ]
  },
  {
   "cell_type": "code",
   "execution_count": null,
   "metadata": {},
   "outputs": [],
   "source": [
    "model.summary()"
   ]
  },
  {
   "cell_type": "code",
   "execution_count": null,
   "metadata": {},
   "outputs": [],
   "source": [
    "#,validation_data=(valiX,valiY)\n",
    "opt = optimizers.RMSprop(lr = 0.006, decay=1e-2)\n",
    "model.compile( optimizer = opt,loss='logcosh',metrics=['mse'])\n",
    "history1 = model.fit(trainX, trainY, epochs=80, batch_size=15, verbose=2 )\n",
    "#,callbacks = [EarlyStopping(monitor='val_loss', min_delta=5e-5, patience=5, verbose=1)])"
   ]
  },
  {
   "cell_type": "code",
   "execution_count": null,
   "metadata": {},
   "outputs": [],
   "source": [
    "history_dict1 = history1.history\n",
    "history_dict1.keys()"
   ]
  },
  {
   "cell_type": "code",
   "execution_count": null,
   "metadata": {},
   "outputs": [],
   "source": [
    "acc = history1.history['mean_squared_error']\n",
    "#val_acc = history.history['val_mean_squared_error']\n",
    "loss = history1.history['loss']\n",
    "#val_loss = history.history['val_loss']\n",
    "\n",
    "epochs = range(1, len(loss)+1)\n",
    "\n",
    "# figure\n",
    "plt.figure(figsize=(10,5))\n",
    "plt.subplot(1,2,1)\n",
    "plt.plot(epochs, loss, 'b', label='Training loss')\n",
    "#plt.plot(epochs, val_loss, 'g', label='Validation loss')\n",
    "plt.title('Training loss')\n",
    "plt.xlabel('Epochs')\n",
    "plt.ylabel('Loss')\n",
    "plt.legend()\n",
    "\n",
    "plt.subplot(1,2,2)\n",
    "plt.plot(epochs, acc, 'r', label='Training mse')\n",
    "#plt.plot(epochs, val_acc, 'g', label='Validation mse')\n",
    "plt.title('Training mse')\n",
    "plt.xlabel('Epochs')\n",
    "plt.ylabel('MSE')\n",
    "plt.legend()\n",
    "plt.show()"
   ]
  },
  {
   "cell_type": "raw",
   "metadata": {},
   "source": [
    "mse = history1.history['mean_squared_error']\n",
    "val_mse = history1.history['val_mean_squared_error']\n",
    "loss = history1.history['loss']\n",
    "val_loss = history1.history['val_loss']\n",
    "\n",
    "epochs = range(1, len(mse)+1)\n",
    "\n",
    "# figure\n",
    "plt.figure(figsize=(10,5))\n",
    "plt.subplot(1,2,1)\n",
    "plt.plot(epochs, loss, 'b', label='Training loss')\n",
    "plt.plot(epochs, val_loss, 'g', label='Validation loss')\n",
    "plt.title('Training and validation loss')\n",
    "plt.xlabel('Epochs')\n",
    "plt.ylabel('Loss')\n",
    "plt.legend()\n",
    "plt.subplot(1,2,2)\n",
    "plt.plot(epochs, mse, 'r', label='Training mse')\n",
    "plt.plot(epochs, val_mse, 'g', label='Validation mse')\n",
    "plt.title('Training and validation mse')\n",
    "plt.xlabel('Epochs')\n",
    "plt.ylabel('MSE')\n",
    "plt.legend()\n",
    "plt.show()"
   ]
  },
  {
   "cell_type": "raw",
   "metadata": {},
   "source": [
    "history_dict=history.history\n",
    "history_dict.keys()"
   ]
  },
  {
   "cell_type": "raw",
   "metadata": {},
   "source": [
    "mse = history.history['mean_squared_error']\n",
    "val_mse = history.history['val_mean_squared_error']\n",
    "loss = history.history['loss']\n",
    "val_loss = history.history['val_loss']\n",
    "\n",
    "epochs = range(1, len(mse)+1)\n",
    "\n",
    "# figure\n",
    "plt.figure(figsize=(10,5))\n",
    "plt.subplot(1,2,1)\n",
    "plt.plot(epochs, loss, 'b', label='Training loss')\n",
    "plt.plot(epochs, val_loss, 'g', label='Validation loss')\n",
    "plt.title('Training and validation loss')\n",
    "plt.xlabel('Epochs')\n",
    "plt.ylabel('Loss')\n",
    "plt.legend()\n",
    "plt.subplot(1,2,2)\n",
    "plt.plot(epochs, mse, 'r', label='Training mse')\n",
    "plt.plot(epochs, val_mse, 'g', label='Validation mse')\n",
    "plt.title('Training and validation mse')\n",
    "plt.xlabel('Epochs')\n",
    "plt.ylabel('MSE')\n",
    "plt.legend()\n",
    "plt.show()"
   ]
  },
  {
   "cell_type": "markdown",
   "metadata": {},
   "source": [
    "## GUARDAMOS Y CARGAMOS  LA RED"
   ]
  },
  {
   "cell_type": "code",
   "execution_count": null,
   "metadata": {},
   "outputs": [],
   "source": [
    "#model.save('lstm-dxdy0.h5')"
   ]
  },
  {
   "cell_type": "code",
   "execution_count": null,
   "metadata": {},
   "outputs": [],
   "source": [
    "#model.save('lstm-dxdy1.h5')"
   ]
  },
  {
   "cell_type": "code",
   "execution_count": null,
   "metadata": {},
   "outputs": [],
   "source": [
    "#model.save('lstm-dxdy2.h5')"
   ]
  },
  {
   "cell_type": "code",
   "execution_count": null,
   "metadata": {},
   "outputs": [],
   "source": [
    "#model.save('lstm-dxdy3.h5')"
   ]
  },
  {
   "cell_type": "code",
   "execution_count": null,
   "metadata": {},
   "outputs": [],
   "source": [
    "#model.save('lstm-dxdy4.h5')"
   ]
  },
  {
   "cell_type": "code",
   "execution_count": null,
   "metadata": {},
   "outputs": [],
   "source": [
    "#model.save('lstm-dxdy0-simplificado.h5')"
   ]
  },
  {
   "cell_type": "code",
   "execution_count": null,
   "metadata": {},
   "outputs": [],
   "source": [
    "#model.save('lstm-dxdy1-simplificado.h5')"
   ]
  },
  {
   "cell_type": "code",
   "execution_count": null,
   "metadata": {},
   "outputs": [],
   "source": [
    "#model.save('lstm-dxdy2-simplificado.h5')"
   ]
  },
  {
   "cell_type": "code",
   "execution_count": null,
   "metadata": {},
   "outputs": [],
   "source": [
    "#model.save('lstm-dxdy3-simplificado.h5')"
   ]
  },
  {
   "cell_type": "code",
   "execution_count": null,
   "metadata": {},
   "outputs": [],
   "source": [
    "#model.save('lstm-dxdy4-simplificado_aux.h5')"
   ]
  },
  {
   "cell_type": "markdown",
   "metadata": {},
   "source": [
    "## Aqui se carga el modelo con el cual se quiere trabajar"
   ]
  },
  {
   "cell_type": "code",
   "execution_count": 18,
   "metadata": {},
   "outputs": [
    {
     "name": "stderr",
     "output_type": "stream",
     "text": [
      "WARNING: Logging before flag parsing goes to stderr.\n",
      "W0114 00:12:00.718751 140350066153216 deprecation_wrapper.py:119] From /home/andrea/anaconda2/lib/python2.7/site-packages/keras/backend/tensorflow_backend.py:74: The name tf.get_default_graph is deprecated. Please use tf.compat.v1.get_default_graph instead.\n",
      "\n",
      "W0114 00:12:00.736212 140350066153216 deprecation_wrapper.py:119] From /home/andrea/anaconda2/lib/python2.7/site-packages/keras/backend/tensorflow_backend.py:517: The name tf.placeholder is deprecated. Please use tf.compat.v1.placeholder instead.\n",
      "\n",
      "W0114 00:12:00.739892 140350066153216 deprecation_wrapper.py:119] From /home/andrea/anaconda2/lib/python2.7/site-packages/keras/backend/tensorflow_backend.py:4138: The name tf.random_uniform is deprecated. Please use tf.random.uniform instead.\n",
      "\n",
      "W0114 00:12:01.084022 140350066153216 deprecation_wrapper.py:119] From /home/andrea/anaconda2/lib/python2.7/site-packages/keras/backend/tensorflow_backend.py:174: The name tf.get_default_session is deprecated. Please use tf.compat.v1.get_default_session instead.\n",
      "\n",
      "W0114 00:12:01.085410 140350066153216 deprecation_wrapper.py:119] From /home/andrea/anaconda2/lib/python2.7/site-packages/keras/backend/tensorflow_backend.py:181: The name tf.ConfigProto is deprecated. Please use tf.compat.v1.ConfigProto instead.\n",
      "\n",
      "W0114 00:12:01.217948 140350066153216 deprecation_wrapper.py:119] From /home/andrea/anaconda2/lib/python2.7/site-packages/keras/optimizers.py:790: The name tf.train.Optimizer is deprecated. Please use tf.compat.v1.train.Optimizer instead.\n",
      "\n",
      "W0114 00:12:01.443438 140350066153216 deprecation.py:323] From /home/andrea/anaconda2/lib/python2.7/site-packages/tensorflow/python/ops/math_grad.py:1250: where (from tensorflow.python.ops.array_ops) is deprecated and will be removed in a future version.\n",
      "Instructions for updating:\n",
      "Use tf.where in 2.0, which has the same broadcast rule as np.where\n"
     ]
    }
   ],
   "source": [
    "modeldxdy =load_model('lstm-dxdy4.h5')"
   ]
  },
  {
   "cell_type": "markdown",
   "metadata": {},
   "source": [
    "## PREDICCION"
   ]
  },
  {
   "cell_type": "code",
   "execution_count": 19,
   "metadata": {},
   "outputs": [],
   "source": [
    "def error_promedio(predicted_traj, true_traj, seq_length_obs):\n",
    "    \n",
    "    error = np.zeros(len(true_traj) - seq_length_obs)\n",
    "    # PARA CADA PUNTO EN LA TRAYECTORIA PREDICHA\n",
    "    for i in range(seq_length_obs, len(true_traj)):\n",
    "        # The predicted position\n",
    "        pred_pos = predicted_traj[i]\n",
    "        # The true position\n",
    "        true_pos = true_traj[i]\n",
    "\n",
    "        # The euclidean distance is the error\n",
    "        error[i-seq_length_obs] = np.linalg.norm(true_pos - pred_pos)\n",
    "\n",
    "    # Return the mean error\n",
    "    return np.mean(error)\n"
   ]
  },
  {
   "cell_type": "code",
   "execution_count": 20,
   "metadata": {},
   "outputs": [],
   "source": [
    "def error_desplazamiento_final(predicted_traj, true_traj):\n",
    "    tam = len(predicted_traj)\n",
    "    return np.linalg.norm(predicted_traj[tam-1]-true_traj[tam-1])"
   ]
  },
  {
   "cell_type": "code",
   "execution_count": 21,
   "metadata": {},
   "outputs": [],
   "source": [
    "def secuencia_pred(seq_length_obs,data,seq_length_pred):\n",
    "    tamano = int(len(data))\n",
    "    \n",
    "    X,Y_true = [],[]\n",
    "    for j in range(tamano):\n",
    "        traj = data[j]\n",
    "        lon = traj.shape[0]-seq_length_obs-seq_length_pred\n",
    "    #lon=data.shape[0]-seq_length_obs-seq_length_pred\n",
    "        for i in range(0,lon+1):\n",
    "            a = traj[i:(i +seq_length_obs ), :]\n",
    "            \n",
    "            X.append(a)\n",
    "            \n",
    "            b = traj[i: (i+seq_length_obs+seq_length_pred), :]\n",
    "        \n",
    "            Y_true.append(b)\n",
    "    return np.array(X),np.array(Y_true)"
   ]
  },
  {
   "cell_type": "code",
   "execution_count": 22,
   "metadata": {},
   "outputs": [],
   "source": [
    "\"\"\"\n",
    "Esta funcion calcula el error del modelo , al evaluar el conjunto de test\n",
    "y los resultados estan normalizados\n",
    "\"\"\"\n",
    "\n",
    "\n",
    "def sample(datos, seq_length_obs, seq_length_pred):\n",
    "    \n",
    "    X,Y_true = secuencia_pred(seq_length_obs,datos,seq_length_pred)\n",
    "    total_error = 0.0\n",
    "    total_final = 0.0\n",
    "    todo = []\n",
    "    for i in range(len(X)):\n",
    "        traj_obs = X[i]\n",
    "        traj_pred = X[i]\n",
    "    \n",
    "        #print(Y_true[i])\n",
    "        \n",
    "        for j in range(seq_length_pred):\n",
    "            traj_obsr = numpy.reshape(traj_obs, (1,traj_obs.shape[0],traj_obs.shape[1]) )\n",
    "            #print(traj_obsr)\n",
    "            predict = modeldxdy.predict(traj_obsr)\n",
    "            next_point = traj_obs[len(traj_obs)-1]+predict\n",
    "                      \n",
    "            traj_obs = np.concatenate((traj_obs[1:len(traj_obs)],next_point),axis=0)\n",
    "            traj_pred = np.concatenate((traj_pred,next_point),axis=0)\n",
    "            \n",
    "        diff = Y_true[i][seq_length_obs:]-traj_pred[seq_length_obs:]\n",
    "        diff = diff**2\n",
    "        diff = np.sqrt(np.sum(diff,axis=1))\n",
    "        \n",
    "        todo.append(diff)\n",
    "        total_error += error_promedio(traj_pred , Y_true[i], seq_length_obs)\n",
    "        total_final += error_desplazamiento_final(traj_pred, Y_true[i]) \n",
    "        \n",
    "        \n",
    "    error_modelo = total_error/len(X)\n",
    "    error_fde_modelo = total_final/len(X)\n",
    "    ade=[t for o in todo for t in o]\n",
    "    \n",
    "    print('ADE')\n",
    "    print(np.mean(ade))\n",
    "    \n",
    "    print(error_modelo)\n",
    "    print('FDE')\n",
    "    print(error_fde_modelo)\n",
    "        \n",
    "    "
   ]
  },
  {
   "cell_type": "code",
   "execution_count": 23,
   "metadata": {},
   "outputs": [],
   "source": [
    "\"\"\"\n",
    "Esta funcion calcula el error del modelo , al evaluar el conjunto de test\n",
    "y los resultados estan en marco pixeles\n",
    "\"\"\"\n",
    "def sample_en_pixeles(datos, seq_length_obs, seq_length_pred):\n",
    "    \n",
    "    X,Y_true = secuencia_pred(seq_length_obs,datos,seq_length_pred)\n",
    "    total_error = 0.0\n",
    "    total_final = 0.0\n",
    "    todo = []\n",
    "    \n",
    "    \n",
    "    trayectoria=[]\n",
    "    verdadero=[]\n",
    "    for i in range(len(X)):\n",
    "        traj_obs = X[i]\n",
    "        traj_pred = X[i]\n",
    "    \n",
    "        \n",
    "        for j in range(seq_length_pred):\n",
    "            traj_obsr = numpy.reshape(traj_obs, (1,traj_obs.shape[0],traj_obs.shape[1]) )\n",
    "            #print(traj_obsr)\n",
    "            predict = modeldxdy.predict(traj_obsr)\n",
    "            next_point = traj_obs[len(traj_obs)-1]+predict\n",
    "                      \n",
    "            traj_obs = np.concatenate((traj_obs[1:len(traj_obs)],next_point),axis=0)\n",
    "            traj_pred = np.concatenate((traj_pred,next_point),axis=0)\n",
    "        \n",
    "        #traj_pre = []\n",
    "        #traj_tr = []\n",
    "        #for k in range(len(traj_pred)):\n",
    "        #    traj_pre.append([640* traj_pred[k,0],480*traj_pred[k,1]])\n",
    "        #    traj_tr.append([640* Y_true[i][k,0],480*Y_true[i][k,1]])\n",
    "        \n",
    "        #traj_pre = np.array(traj_pre)\n",
    "        #traj_tr = np.array(traj_tr)\n",
    "        \n",
    "        traj_pre =  np.column_stack((768*traj_pred[:,0],576*traj_pred[:,1]))\n",
    "        traj_tr = np.column_stack((768*Y_true[i][:,0],576*Y_true[i][:,1]))\n",
    "        \n",
    "        trayectoria.append(traj_pre)\n",
    "        verdadero.append(traj_tr)\n",
    "        \n",
    "        # calcular ADE\n",
    "        diff = traj_tr[seq_length_obs:]-traj_pre[seq_length_obs:]\n",
    "        diff = diff**2\n",
    "        diff = np.sqrt(np.sum(diff,axis=1))\n",
    "        todo.append(diff)\n",
    "        \n",
    "        total_error += error_promedio(traj_pre ,traj_tr,seq_length_obs)\n",
    "        total_final += error_desplazamiento_final(traj_pre, traj_tr)\n",
    "        \n",
    "    error_modelo = total_error/len(X)\n",
    "    error_fde_modelo = total_final/len(X)\n",
    "    ade = [t for o in todo for t in o]\n",
    "    \n",
    "    print('ADE')\n",
    "    print(np.mean(ade))\n",
    "    print(error_modelo)\n",
    "    print('FDE')\n",
    "    print(error_fde_modelo)\n",
    "    #return trayectoria, verdadero"
   ]
  },
  {
   "cell_type": "code",
   "execution_count": 25,
   "metadata": {},
   "outputs": [
    {
     "name": "stdout",
     "output_type": "stream",
     "text": [
      "ADE\n",
      "0.016179690758366606\n",
      "0.0161796907583666\n",
      "FDE\n",
      "0.026476897163334134\n"
     ]
    }
   ],
   "source": [
    "sample(test5,8,4)"
   ]
  },
  {
   "cell_type": "code",
   "execution_count": 28,
   "metadata": {},
   "outputs": [
    {
     "name": "stdout",
     "output_type": "stream",
     "text": [
      "ADE\n",
      "10.999088968275156\n",
      "10.999088968275151\n",
      "FDE\n",
      "18.05913520080065\n"
     ]
    }
   ],
   "source": [
    "sample_en_pixeles(test5,8,4)"
   ]
  },
  {
   "cell_type": "code",
   "execution_count": 29,
   "metadata": {},
   "outputs": [],
   "source": [
    "def secuencia_x_persona(seq_length_obs,data,seq_length_pred):\n",
    "    tamano = int(len(data))\n",
    "    X,Y_true = [],[]\n",
    "    for j in range(tamano):\n",
    "        traj = data[j]\n",
    "        X.append(traj[0:seq_length_obs,:])\n",
    "        Y_true.append(traj[0:seq_length_obs+seq_length_pred,:])\n",
    "    return np.array(X),np.array(Y_true)"
   ]
  },
  {
   "cell_type": "code",
   "execution_count": 30,
   "metadata": {},
   "outputs": [],
   "source": [
    "\"\"\"\n",
    "Esta función predice las posiciones futuras de los peatones tomando como observada las primeras Tobs \n",
    "posiciones del peaton y los resultados estan normalizados\n",
    "\"\"\"\n",
    "\n",
    "def sample_x_persona_normalizado(datos, seq_length_obs, seq_length_pred):\n",
    "    \n",
    "    X,Y_true = secuencia_x_persona(seq_length_obs,datos,seq_length_pred)\n",
    "    total_error = 0.0\n",
    "    plt.figure(figsize=(18,15))  \n",
    "    color_names = [\"r\",\"crimson\" ,\"g\", \"b\",\"c\",\"m\",\"y\",\"lightcoral\", \"peachpuff\",\"grey\",\"springgreen\" ,\"fuchsia\",\"violet\",\"teal\",\"seagreen\",\"lime\",\"yellow\",\"coral\",\"aquamarine\",\"hotpink\"]\n",
    "    todo=[]\n",
    "    for i in range(len(X)):\n",
    "        traj_obs = X[i]\n",
    "        traj_pred = X[i]\n",
    "    \n",
    "        for j in range(seq_length_pred):\n",
    "            traj_obsr = numpy.reshape(traj_obs, (1,traj_obs.shape[0],traj_obs.shape[1]) )\n",
    "            #print(traj_obsr)\n",
    "            predict = modeldxdy.predict(traj_obsr)\n",
    "            next_point = traj_obs[len(traj_obs)-1]+predict\n",
    "          \n",
    "            traj_obs = np.concatenate((traj_obs[1:len(traj_obs)],next_point),axis=0)\n",
    "            traj_pred = np.concatenate((traj_pred,next_point),axis=0)\n",
    "        \n",
    "        diff = Y_true[i][seq_length_obs:]-traj_pred[seq_length_obs:]\n",
    "        diff = diff**2\n",
    "        diff = np.sqrt(np.sum(diff,axis=1))\n",
    "        \n",
    "        todo.append(diff)\n",
    "     \n",
    "    \n",
    "        error_prom = error_promedio(traj_pred ,Y_true[i], seq_length_obs)\n",
    "        FDE = error_desplazamiento_final(traj_pred , Y_true[i])\n",
    "        \n",
    "\n",
    "        print(\"TRAYECTORIA PREDICHA DEL PEATON \",i+1)\n",
    "        print(traj_pred)\n",
    "        print(\"TRAYECTORIA VERDADERA  \")\n",
    "        print(Y_true[i])\n",
    "        print(\"EL ERROR PROMEDIO DE LA TRAYECTORIA PREDICHA ES = {:.3f} \".format(error_prom))\n",
    "        print(\"ERROR DE DESPLAZAMIENTO FINAL ES ={:.3f}\".format(FDE))\n",
    "                         \n",
    "        #cpu = random.choice(range(17))\n",
    "                         \n",
    "        subplot(1,1,1)\n",
    "        \n",
    "        predicha=plt.plot(Y_true[i][:12,0],Y_true[i][:12,1],'*--',color=color_names[19-i])\n",
    "        predicha=plt.plot(traj_pred[seq_length_obs:(seq_length_obs+seq_length_pred),0],\n",
    "                                  traj_pred[seq_length_obs:(seq_length_obs+seq_length_pred),1],'o--',color=color_names[i])\n",
    "        plt.title(\"Cuatro posiciones predichas con LSTM-DX-DY\") \n",
    "        plt.xlabel('Coordenada x')\n",
    "        plt.ylabel('Coordenada y')\n",
    "        \n",
    "        \n",
    "        total_error += error_prom\n",
    "    error_modelo = total_error/len(X)\n",
    "    ade=[t for o in todo for t in o]\n",
    "    \n",
    "    \n",
    "    \n",
    "    print(\"EL ERROR PROMEDIO DE TODA LA PREDICCIÓN\")\n",
    "    print(error_modelo)\n",
    "    print('ADE')\n",
    "    print(np.mean(ade))\n",
    "    plt.savefig(\"4prediccion.pdf\")\n",
    "    plt.show()\n",
    "    \n",
    "        "
   ]
  },
  {
   "cell_type": "code",
   "execution_count": 31,
   "metadata": {},
   "outputs": [],
   "source": [
    "\n",
    "\"\"\"\n",
    "Esta función predice las posiciones futuras de los peatones tomando como observada las primeras Tobs \n",
    "posiciones del peaton y los resultados estan en marco pixel\n",
    "\"\"\"\n",
    "\n",
    "\n",
    "\n",
    "def sample_x_persona(datos, seq_length_obs, seq_length_pred):\n",
    "    \n",
    "    X,Y_true = secuencia_x_persona(seq_length_obs,datos,seq_length_pred)\n",
    "    total_error = 0.0\n",
    "    plt.figure(figsize=(18,15))  \n",
    "    color_names = [\"r\", \"g\", \"b\",\"c\",\"m\",\"y\", \"peachpuff\",\"grey\", \"fuchsia\",\"violet\",\n",
    "                   \"teal\",\"seagreen\",\"lime\",\"yellow\",\"coral\",\"aquamarine\",\"hotpink\"]\n",
    "    todo=[]\n",
    "    for i in range(len(X)):\n",
    "        traj_obs = X[i]\n",
    "        traj_pred = X[i]\n",
    "    \n",
    "        for j in range(seq_length_pred):\n",
    "            traj_obsr = numpy.reshape(traj_obs, (1,traj_obs.shape[0],traj_obs.shape[1]) )\n",
    "            #print(traj_obsr)\n",
    "            predict = modeldxdy.predict(traj_obsr)\n",
    "            next_point = traj_obs[len(traj_obs)-1]+predict\n",
    "          \n",
    "            traj_obs = np.concatenate((traj_obs[1:len(traj_obs)],next_point),axis=0)\n",
    "            traj_pred = np.concatenate((traj_pred,next_point),axis=0)\n",
    "    \n",
    "        traj_pre = []\n",
    "        traj_tr = []\n",
    "        for k in range(len(traj_pred)):\n",
    "            traj_pre.append([768* traj_pred[k,0],576*traj_pred[k,1]])\n",
    "            traj_tr.append([768* Y_true[i][k,0],576*Y_true[i][k,1]])\n",
    "        \n",
    "        traj_pre=np.array(traj_pre)\n",
    "        traj_tr=np.array(traj_tr)\n",
    "        error_prom = error_promedio(traj_pre , traj_tr, seq_length_obs)\n",
    "        FDE = error_desplazamiento_final(traj_pre , traj_tr)\n",
    "        \n",
    "        diff = traj_tr[seq_length_obs:]-traj_pre[seq_length_obs:]\n",
    "        diff = diff**2\n",
    "        diff = np.sqrt(np.sum(diff,axis=1))\n",
    "        \n",
    "        todo.append(diff)\n",
    "    \n",
    "\n",
    "        print(\"TRAYECTORIA PREDICHA DEL PEATON \",i+1)\n",
    "        print(traj_pre)\n",
    "        print(\"TRAYECTORIA VERDADERA  \")\n",
    "        print(traj_tr)\n",
    "        print(\"EL ERROR PROMEDIO DE LA TRAYECTORIA PREDICHA ES = {:.3f} \".format(error_prom))\n",
    "        print(\"ERROR DE DESPLAZAMIENTO FINAL ES ={:.3f}\".format(FDE))\n",
    "                         \n",
    "        cpu = random.choice(range(17))\n",
    "                         \n",
    "        subplot(1,1,1)\n",
    "        \n",
    "        predicha=plt.plot(traj_tr[:,0],traj_tr[:,1],'*--',color=color_names[cpu])                \n",
    "        predicha=plt.plot(traj_pre[seq_length_obs:(seq_length_obs+seq_length_pred),0],\n",
    "                                  traj_pre[seq_length_obs:(seq_length_obs+seq_length_pred),1],'o--',color=color_names[cpu])\n",
    "        \n",
    "        plt.title(\"Cuatro posiciones predichas con LSTM-DX-DY\") \n",
    "        plt.xlabel('Coordenada x')\n",
    "        plt.ylabel('Coordenada y')\n",
    "        \n",
    "        \n",
    "        total_error += error_prom\n",
    "    error_modelo = total_error/len(X)\n",
    "    \n",
    "    ade=[t for o in todo for t in o]\n",
    "    print(\"EL ERROR PROMEDIO DE TODA LA PREDICCIÓN\")\n",
    "    print(error_modelo)\n",
    "    print(\"Error ADE\")\n",
    "    print(np.mean(ade))\n",
    "    plt.savefig(\"trayectoriasdxdy.jpg\")\n",
    "    plt.show()\n",
    "    \n",
    "        \n",
    "    \n",
    "    "
   ]
  },
  {
   "cell_type": "code",
   "execution_count": 33,
   "metadata": {},
   "outputs": [
    {
     "name": "stdout",
     "output_type": "stream",
     "text": [
      "('TRAYECTORIA PREDICHA DEL PEATON ', 1)\n",
      "[[727.0758     272.93      ]\n",
      " [715.2923     268.3596    ]\n",
      " [701.7908     263.7643    ]\n",
      " [687.897      259.3316    ]\n",
      " [673.953      254.9284    ]\n",
      " [660.0282     250.5522    ]\n",
      " [646.2256     246.3693    ]\n",
      " [632.6942     242.6174    ]\n",
      " [620.81890198 239.64444972]\n",
      " [608.71389242 236.63369102]\n",
      " [596.63562771 233.65252245]\n",
      " [584.69241758 230.72699578]]\n",
      "TRAYECTORIA VERDADERA  \n",
      "[[727.0758 272.93  ]\n",
      " [715.2923 268.3596]\n",
      " [701.7908 263.7643]\n",
      " [687.897  259.3316]\n",
      " [673.953  254.9284]\n",
      " [660.0282 250.5522]\n",
      " [646.2256 246.3693]\n",
      " [632.6942 242.6174]\n",
      " [619.3712 239.1962]\n",
      " [606.1295 235.8981]\n",
      " [593.0533 232.8416]\n",
      " [580.3307 230.3071]]\n",
      "EL ERROR PROMEDIO DE LA TRAYECTORIA PREDICHA ES = 3.064 \n",
      "ERROR DE DESPLAZAMIENTO FINAL ES =4.382\n",
      "('TRAYECTORIA PREDICHA DEL PEATON ', 2)\n",
      "[[722.5286     372.0656    ]\n",
      " [710.8914     365.7386    ]\n",
      " [696.7009     358.06      ]\n",
      " [682.7586     350.7629    ]\n",
      " [670.2317     344.7826    ]\n",
      " [658.7911     339.8115    ]\n",
      " [647.6348     335.106     ]\n",
      " [636.4952     330.4168    ]\n",
      " [625.42379221 327.82118503]\n",
      " [614.53664287 325.30050454]\n",
      " [603.96413454 322.89252619]\n",
      " [593.61149295 320.57735655]]\n",
      "TRAYECTORIA VERDADERA  \n",
      "[[722.5286 372.0656]\n",
      " [710.8914 365.7386]\n",
      " [696.7009 358.06  ]\n",
      " [682.7586 350.7629]\n",
      " [670.2317 344.7826]\n",
      " [658.7911 339.8115]\n",
      " [647.6348 335.106 ]\n",
      " [636.4952 330.4168]\n",
      " [625.3568 325.7283]\n",
      " [614.4086 321.0601]\n",
      " [604.7566 316.53  ]\n",
      " [597.9821 312.3082]]\n",
      "EL ERROR PROMEDIO DE LA TRAYECTORIA PREDICHA ES = 5.525 \n",
      "ERROR DE DESPLAZAMIENTO FINAL ES =9.353\n",
      "('TRAYECTORIA PREDICHA DEL PEATON ', 3)\n",
      "[[409.6089     490.0662    ]\n",
      " [388.1327     484.4104    ]\n",
      " [361.7699     477.4694    ]\n",
      " [334.6873     470.3419    ]\n",
      " [307.8757     463.3354    ]\n",
      " [282.8938     457.1519    ]\n",
      " [261.9717     452.8003    ]\n",
      " [244.36       449.8669    ]\n",
      " [221.43883024 446.69553545]\n",
      " [199.14944302 443.66082704]\n",
      " [177.68983828 440.76729295]\n",
      " [156.77734838 437.96760372]]\n",
      "TRAYECTORIA VERDADERA  \n",
      "[[409.6089 490.0662]\n",
      " [388.1327 484.4104]\n",
      " [361.7699 477.4694]\n",
      " [334.6873 470.3419]\n",
      " [307.8757 463.3354]\n",
      " [282.8938 457.1519]\n",
      " [261.9717 452.8003]\n",
      " [244.36   449.8669]\n",
      " [228.9024 447.3884]\n",
      " [216.5071 445.115 ]\n",
      " [207.3518 442.9492]\n",
      " [202.4967 440.6919]]\n",
      "EL ERROR PROMEDIO DE LA TRAYECTORIA PREDICHA ES = 25.114 \n",
      "ERROR DE DESPLAZAMIENTO FINAL ES =45.800\n",
      "('TRAYECTORIA PREDICHA DEL PEATON ', 4)\n",
      "[[716.507      505.6516    ]\n",
      " [694.2515     502.4326    ]\n",
      " [666.9356     498.4826    ]\n",
      " [638.8736     494.4259    ]\n",
      " [610.8107     490.3714    ]\n",
      " [582.7479     486.3173    ]\n",
      " [554.6853     482.2603    ]\n",
      " [526.6488     478.2043    ]\n",
      " [500.97396861 473.66174246]\n",
      " [474.54770099 469.14131422]\n",
      " [448.03151141 464.77532758]\n",
      " [421.6554576  460.59612138]]\n",
      "TRAYECTORIA VERDADERA  \n",
      "[[716.507  505.6516]\n",
      " [694.2515 502.4326]\n",
      " [666.9356 498.4826]\n",
      " [638.8736 494.4259]\n",
      " [610.8107 490.3714]\n",
      " [582.7479 486.3173]\n",
      " [554.6853 482.2603]\n",
      " [526.6488 478.2043]\n",
      " [499.0292 474.1779]\n",
      " [472.9964 470.2637]\n",
      " [449.0332 466.4959]\n",
      " [426.     462.7937]]\n",
      "EL ERROR PROMEDIO DE LA TRAYECTORIA PREDICHA ES = 2.697 \n",
      "ERROR DE DESPLAZAMIENTO FINAL ES =4.869\n",
      "EL ERROR PROMEDIO DE TODA LA PREDICCIÓN\n",
      "9.100104657031418\n",
      "Error ADE\n",
      "9.100104657031418\n"
     ]
    },
    {
     "data": {
      "image/png": "[encoded data removed]",
      "text/plain": [
       "<Figure size 1296x1080 with 1 Axes>"
      ]
     },
     "metadata": {
      "needs_background": "light"
     },
     "output_type": "display_data"
    }
   ],
   "source": [
    "sample_x_persona(test5,8,4)"
   ]
  },
  {
   "cell_type": "code",
   "execution_count": 32,
   "metadata": {},
   "outputs": [
    {
     "name": "stdout",
     "output_type": "stream",
     "text": [
      "('TRAYECTORIA PREDICHA DEL PEATON ', 1)\n",
      "[[0.94671328 0.47383681]\n",
      " [0.93137018 0.46590208]\n",
      " [0.9137901  0.45792413]\n",
      " [0.89569922 0.45022847]\n",
      " [0.87754297 0.44258403]\n",
      " [0.85941172 0.43498646]\n",
      " [0.84143958 0.42772448]\n",
      " [0.82382057 0.42121076]\n",
      " [0.80835795 0.41604939]\n",
      " [0.79259621 0.41082238]\n",
      " [0.77686931 0.40564674]\n",
      " [0.76131825 0.4005677 ]]\n",
      "TRAYECTORIA VERDADERA  \n",
      "[[0.94671328 0.47383681]\n",
      " [0.93137018 0.46590208]\n",
      " [0.9137901  0.45792413]\n",
      " [0.89569922 0.45022847]\n",
      " [0.87754297 0.44258403]\n",
      " [0.85941172 0.43498646]\n",
      " [0.84143958 0.42772448]\n",
      " [0.82382057 0.42121076]\n",
      " [0.80647292 0.41527118]\n",
      " [0.78923112 0.40954531]\n",
      " [0.77220482 0.40423889]\n",
      " [0.75563893 0.39983872]]\n",
      "EL ERROR PROMEDIO DE LA TRAYECTORIA PREDICHA ES = 0.004 \n",
      "ERROR DE DESPLAZAMIENTO FINAL ES =0.006\n",
      "('TRAYECTORIA PREDICHA DEL PEATON ', 2)\n",
      "[[0.94079245 0.64594722]\n",
      " [0.92563984 0.63496285]\n",
      " [0.90716263 0.62163194]\n",
      " [0.88900859 0.60896337]\n",
      " [0.87269753 0.5985809 ]\n",
      " [0.85780091 0.58995052]\n",
      " [0.84327448 0.58178125]\n",
      " [0.82876979 0.57364028]\n",
      " [0.8143539  0.569134  ]\n",
      " [0.80017792 0.56475782]\n",
      " [0.78641163 0.5605773 ]\n",
      " [0.77293163 0.55655791]]\n",
      "TRAYECTORIA VERDADERA  \n",
      "[[0.94079245 0.64594722]\n",
      " [0.92563984 0.63496285]\n",
      " [0.90716263 0.62163194]\n",
      " [0.88900859 0.60896337]\n",
      " [0.87269753 0.5985809 ]\n",
      " [0.85780091 0.58995052]\n",
      " [0.84327448 0.58178125]\n",
      " [0.82876979 0.57364028]\n",
      " [0.81426667 0.56550052]\n",
      " [0.8000112  0.55739601]\n",
      " [0.78744349 0.54953125]\n",
      " [0.77862253 0.54220174]]\n",
      "EL ERROR PROMEDIO DE LA TRAYECTORIA PREDICHA ES = 0.009 \n",
      "ERROR DE DESPLAZAMIENTO FINAL ES =0.015\n",
      "('TRAYECTORIA PREDICHA DEL PEATON ', 3)\n",
      "[[0.53334492 0.85080937]\n",
      " [0.50538112 0.84099028]\n",
      " [0.47105456 0.82893993]\n",
      " [0.43579076 0.8165658 ]\n",
      " [0.40087982 0.80440174]\n",
      " [0.3683513  0.79366649]\n",
      " [0.34110898 0.78611163]\n",
      " [0.31817708 0.78101892]\n",
      " [0.28833181 0.77551308]\n",
      " [0.25930917 0.77024449]\n",
      " [0.23136698 0.76522099]\n",
      " [0.20413717 0.76036042]]\n",
      "TRAYECTORIA VERDADERA  \n",
      "[[0.53334492 0.85080937]\n",
      " [0.50538112 0.84099028]\n",
      " [0.47105456 0.82893993]\n",
      " [0.43579076 0.8165658 ]\n",
      " [0.40087982 0.80440174]\n",
      " [0.3683513  0.79366649]\n",
      " [0.34110898 0.78611163]\n",
      " [0.31817708 0.78101892]\n",
      " [0.29805    0.77671597]\n",
      " [0.28191029 0.7727691 ]\n",
      " [0.26998932 0.76900903]\n",
      " [0.26366758 0.7650901 ]]\n",
      "EL ERROR PROMEDIO DE LA TRAYECTORIA PREDICHA ES = 0.033 \n",
      "ERROR DE DESPLAZAMIENTO FINAL ES =0.060\n",
      "('TRAYECTORIA PREDICHA DEL PEATON ', 4)\n",
      "[[0.93295182 0.87786736]\n",
      " [0.90397331 0.87227882]\n",
      " [0.86840573 0.86542118]\n",
      " [0.83186667 0.8583783 ]\n",
      " [0.79532643 0.85133924]\n",
      " [0.75878633 0.84430087]\n",
      " [0.72224648 0.83725747]\n",
      " [0.68574062 0.8302158 ]\n",
      " [0.65230985 0.82232941]\n",
      " [0.61790065 0.81448145]\n",
      " [0.58337436 0.80690161]\n",
      " [0.54903054 0.79964604]]\n",
      "TRAYECTORIA VERDADERA  \n",
      "[[0.93295182 0.87786736]\n",
      " [0.90397331 0.87227882]\n",
      " [0.86840573 0.86542118]\n",
      " [0.83186667 0.8583783 ]\n",
      " [0.79532643 0.85133924]\n",
      " [0.75878633 0.84430087]\n",
      " [0.72224648 0.83725747]\n",
      " [0.68574062 0.8302158 ]\n",
      " [0.6497776  0.82322552]\n",
      " [0.61588073 0.81643003]\n",
      " [0.58467865 0.80988872]\n",
      " [0.5546875  0.80346128]]\n",
      "EL ERROR PROMEDIO DE LA TRAYECTORIA PREDICHA ES = 0.004 \n",
      "ERROR DE DESPLAZAMIENTO FINAL ES =0.007\n",
      "EL ERROR PROMEDIO DE TODA LA PREDICCIÓN\n",
      "0.012525461493309128\n",
      "ADE\n",
      "0.012525461493309128\n"
     ]
    },
    {
     "name": "stderr",
     "output_type": "stream",
     "text": [
      "/home/andrea/anaconda2/lib/python2.7/site-packages/matplotlib/cbook/deprecation.py:107: MatplotlibDeprecationWarning: Adding an axes using the same arguments as a previous axes currently reuses the earlier instance.  In a future version, a new instance will always be created and returned.  Meanwhile, this warning can be suppressed, and the future behavior ensured, by passing a unique label to each axes instance.\n",
      "  warnings.warn(message, mplDeprecation, stacklevel=1)\n"
     ]
    },
    {
     "data": {
      "image/png": "[encoded data removed]",
      "text/plain": [
       "<Figure size 1296x1080 with 1 Axes>"
      ]
     },
     "metadata": {
      "needs_background": "light"
     },
     "output_type": "display_data"
    }
   ],
   "source": [
    "sample_x_persona_normalizado(test5,8,4)"
   ]
  },
  {
   "cell_type": "markdown",
   "metadata": {},
   "source": [
    "## Analisis cualitativo"
   ]
  },
  {
   "cell_type": "code",
   "execution_count": null,
   "metadata": {},
   "outputs": [],
   "source": [
    "cruce = []\n",
    "cruce.append(datos[3][252:264,:])\n",
    "cruce.append(datos[4][135:147,:])\n",
    "\n",
    "paralelos = []\n",
    "paralelos.append(datos[2][1:13])\n",
    "paralelos.append(datos[3][20:32])\n",
    "\n",
    "inverso = []\n",
    "inverso.append(datos[4][167:179])\n",
    "inverso.append(datos[6][15:27])"
   ]
  },
  {
   "cell_type": "code",
   "execution_count": null,
   "metadata": {},
   "outputs": [],
   "source": [
    "cruce"
   ]
  },
  {
   "cell_type": "code",
   "execution_count": null,
   "metadata": {},
   "outputs": [],
   "source": [
    "p,v = sample_en_pixeles(cruce,8,4)"
   ]
  },
  {
   "cell_type": "code",
   "execution_count": null,
   "metadata": {},
   "outputs": [],
   "source": [
    "color_names = [\"r\", \"g\", \"b\",\"c\",\"m\",\"y\", \"peachpuff\",\"grey\", \"fuchsia\",\"violet\",\n",
    "                   \"teal\",\"seagreen\",\"lime\",\"yellow\",\"coral\",\"aquamarine\",\"hotpink\"]\n",
    "\n",
    "\n",
    "plot(p[0][0:8,0],p[0][0:8,1],'*--',color= color_names[10],label = 'Observado')\n",
    "plot(p[0][7:,0],p[0][7:,1],'-',color=color_names[10],label='Predicho')\n",
    "plot(v[0][7:,0],v[0][7:,1],'--',color=color_names[4],label='GT')\n",
    "\n",
    "plot(p[1][0:8,0],p[1][0:8,1],'*--',color= color_names[10])\n",
    "plot(p[1][7:,0],p[1][7:,1],'-',color=color_names[10])\n",
    "plot(v[1][7:,0],v[1][7:,1],'--',color=color_names[4])\n",
    "\n",
    "#plt.show()\n",
    "plt.legend()\n",
    "plt.savefig(\"cruce_des.jpg\")\n",
    "#plt.show()"
   ]
  },
  {
   "cell_type": "code",
   "execution_count": null,
   "metadata": {},
   "outputs": [],
   "source": []
  }
 ],
 "metadata": {
  "kernelspec": {
   "display_name": "Python 2",
   "language": "python",
   "name": "python2"
  },
  "language_info": {
   "codemirror_mode": {
    "name": "ipython",
    "version": 2
   },
   "file_extension": ".py",
   "mimetype": "text/x-python",
   "name": "python",
   "nbconvert_exporter": "python",
   "pygments_lexer": "ipython2",
   "version": "2.7.16"
  }
 },
 "nbformat": 4,
 "nbformat_minor": 2
}
